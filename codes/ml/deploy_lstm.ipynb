{
 "cells": [
  {
   "cell_type": "markdown",
   "metadata": {},
   "source": [
    "# LSTM"
   ]
  },
  {
   "cell_type": "code",
   "execution_count": 1,
   "metadata": {},
   "outputs": [
    {
     "name": "stderr",
     "output_type": "stream",
     "text": [
      "Using TensorFlow backend.\n"
     ]
    }
   ],
   "source": [
    "import numpy as np\n",
    "import pandas as pd\n",
    "import deploy_functions as dpf\n",
    "import helper_functions as hf\n",
    "\n",
    "import keras\n",
    "from keras.models import load_model\n",
    "\n",
    "import warnings\n",
    "warnings.filterwarnings('ignore')"
   ]
  },
  {
   "cell_type": "markdown",
   "metadata": {},
   "source": [
    "### Load Data"
   ]
  },
  {
   "cell_type": "code",
   "execution_count": 2,
   "metadata": {},
   "outputs": [
    {
     "data": {
      "text/html": [
       "<div>\n",
       "<style scoped>\n",
       "    .dataframe tbody tr th:only-of-type {\n",
       "        vertical-align: middle;\n",
       "    }\n",
       "\n",
       "    .dataframe tbody tr th {\n",
       "        vertical-align: top;\n",
       "    }\n",
       "\n",
       "    .dataframe thead th {\n",
       "        text-align: right;\n",
       "    }\n",
       "</style>\n",
       "<table border=\"1\" class=\"dataframe\">\n",
       "  <thead>\n",
       "    <tr style=\"text-align: right;\">\n",
       "      <th></th>\n",
       "      <th>compCS</th>\n",
       "      <th>data</th>\n",
       "      <th>dst_ip</th>\n",
       "      <th>dst_port</th>\n",
       "      <th>duration</th>\n",
       "      <th>encCS</th>\n",
       "      <th>eventid</th>\n",
       "      <th>height</th>\n",
       "      <th>input</th>\n",
       "      <th>isError</th>\n",
       "      <th>...</th>\n",
       "      <th>size</th>\n",
       "      <th>src_ip</th>\n",
       "      <th>src_port</th>\n",
       "      <th>system</th>\n",
       "      <th>timestamp</th>\n",
       "      <th>ttylog</th>\n",
       "      <th>url</th>\n",
       "      <th>username</th>\n",
       "      <th>version</th>\n",
       "      <th>width</th>\n",
       "    </tr>\n",
       "  </thead>\n",
       "  <tbody>\n",
       "    <tr>\n",
       "      <th>0</th>\n",
       "      <td>NaN</td>\n",
       "      <td>NaN</td>\n",
       "      <td>10.10.0.13</td>\n",
       "      <td>2222.0</td>\n",
       "      <td>NaN</td>\n",
       "      <td>NaN</td>\n",
       "      <td>cowrie.session.connect</td>\n",
       "      <td>NaN</td>\n",
       "      <td>NaN</td>\n",
       "      <td>0.0</td>\n",
       "      <td>...</td>\n",
       "      <td>NaN</td>\n",
       "      <td>116.31.116.16</td>\n",
       "      <td>39547.0</td>\n",
       "      <td>cowrie.ssh.factory.CowrieSSHFactory</td>\n",
       "      <td>2017-07-03 18:30:07.569246</td>\n",
       "      <td>NaN</td>\n",
       "      <td>NaN</td>\n",
       "      <td>NaN</td>\n",
       "      <td>NaN</td>\n",
       "      <td>NaN</td>\n",
       "    </tr>\n",
       "    <tr>\n",
       "      <th>1</th>\n",
       "      <td>[none]</td>\n",
       "      <td>NaN</td>\n",
       "      <td>NaN</td>\n",
       "      <td>NaN</td>\n",
       "      <td>NaN</td>\n",
       "      <td>[aes128-ctr, aes192-ctr, aes256-ctr, aes256-cb...</td>\n",
       "      <td>cowrie.client.version</td>\n",
       "      <td>NaN</td>\n",
       "      <td>NaN</td>\n",
       "      <td>0.0</td>\n",
       "      <td>...</td>\n",
       "      <td>NaN</td>\n",
       "      <td>116.31.116.16</td>\n",
       "      <td>NaN</td>\n",
       "      <td>HoneyPotSSHTransport,523,116.31.116.16</td>\n",
       "      <td>2017-07-03 18:30:08.235671</td>\n",
       "      <td>NaN</td>\n",
       "      <td>NaN</td>\n",
       "      <td>NaN</td>\n",
       "      <td>SSH-2.0-PUTTY</td>\n",
       "      <td>NaN</td>\n",
       "    </tr>\n",
       "    <tr>\n",
       "      <th>2</th>\n",
       "      <td>NaN</td>\n",
       "      <td>NaN</td>\n",
       "      <td>NaN</td>\n",
       "      <td>NaN</td>\n",
       "      <td>NaN</td>\n",
       "      <td>NaN</td>\n",
       "      <td>cowrie.login.success</td>\n",
       "      <td>NaN</td>\n",
       "      <td>NaN</td>\n",
       "      <td>0.0</td>\n",
       "      <td>...</td>\n",
       "      <td>NaN</td>\n",
       "      <td>116.31.116.16</td>\n",
       "      <td>NaN</td>\n",
       "      <td>SSHService 'ssh-userauth' on HoneyPotSSHTransp...</td>\n",
       "      <td>2017-07-03 18:30:10.585142</td>\n",
       "      <td>NaN</td>\n",
       "      <td>NaN</td>\n",
       "      <td>root</td>\n",
       "      <td>NaN</td>\n",
       "      <td>NaN</td>\n",
       "    </tr>\n",
       "    <tr>\n",
       "      <th>3</th>\n",
       "      <td>NaN</td>\n",
       "      <td>NaN</td>\n",
       "      <td>NaN</td>\n",
       "      <td>NaN</td>\n",
       "      <td>9.96463</td>\n",
       "      <td>NaN</td>\n",
       "      <td>cowrie.session.closed</td>\n",
       "      <td>NaN</td>\n",
       "      <td>NaN</td>\n",
       "      <td>0.0</td>\n",
       "      <td>...</td>\n",
       "      <td>NaN</td>\n",
       "      <td>116.31.116.16</td>\n",
       "      <td>NaN</td>\n",
       "      <td>HoneyPotSSHTransport,523,116.31.116.16</td>\n",
       "      <td>2017-07-03 18:30:17.902600</td>\n",
       "      <td>NaN</td>\n",
       "      <td>NaN</td>\n",
       "      <td>NaN</td>\n",
       "      <td>NaN</td>\n",
       "      <td>NaN</td>\n",
       "    </tr>\n",
       "    <tr>\n",
       "      <th>4</th>\n",
       "      <td>NaN</td>\n",
       "      <td>NaN</td>\n",
       "      <td>10.10.0.13</td>\n",
       "      <td>2222.0</td>\n",
       "      <td>NaN</td>\n",
       "      <td>NaN</td>\n",
       "      <td>cowrie.session.connect</td>\n",
       "      <td>NaN</td>\n",
       "      <td>NaN</td>\n",
       "      <td>0.0</td>\n",
       "      <td>...</td>\n",
       "      <td>NaN</td>\n",
       "      <td>116.31.116.16</td>\n",
       "      <td>22040.0</td>\n",
       "      <td>cowrie.ssh.factory.CowrieSSHFactory</td>\n",
       "      <td>2017-07-03 18:30:44.657703</td>\n",
       "      <td>NaN</td>\n",
       "      <td>NaN</td>\n",
       "      <td>NaN</td>\n",
       "      <td>NaN</td>\n",
       "      <td>NaN</td>\n",
       "    </tr>\n",
       "  </tbody>\n",
       "</table>\n",
       "<p>5 rows × 30 columns</p>\n",
       "</div>"
      ],
      "text/plain": [
       "   compCS data      dst_ip  dst_port  duration  \\\n",
       "0     NaN  NaN  10.10.0.13    2222.0       NaN   \n",
       "1  [none]  NaN         NaN       NaN       NaN   \n",
       "2     NaN  NaN         NaN       NaN       NaN   \n",
       "3     NaN  NaN         NaN       NaN   9.96463   \n",
       "4     NaN  NaN  10.10.0.13    2222.0       NaN   \n",
       "\n",
       "                                               encCS                 eventid  \\\n",
       "0                                                NaN  cowrie.session.connect   \n",
       "1  [aes128-ctr, aes192-ctr, aes256-ctr, aes256-cb...   cowrie.client.version   \n",
       "2                                                NaN    cowrie.login.success   \n",
       "3                                                NaN   cowrie.session.closed   \n",
       "4                                                NaN  cowrie.session.connect   \n",
       "\n",
       "   height input  isError  ...  size         src_ip src_port  \\\n",
       "0     NaN   NaN      0.0  ...   NaN  116.31.116.16  39547.0   \n",
       "1     NaN   NaN      0.0  ...   NaN  116.31.116.16      NaN   \n",
       "2     NaN   NaN      0.0  ...   NaN  116.31.116.16      NaN   \n",
       "3     NaN   NaN      0.0  ...   NaN  116.31.116.16      NaN   \n",
       "4     NaN   NaN      0.0  ...   NaN  116.31.116.16  22040.0   \n",
       "\n",
       "                                              system  \\\n",
       "0                cowrie.ssh.factory.CowrieSSHFactory   \n",
       "1             HoneyPotSSHTransport,523,116.31.116.16   \n",
       "2  SSHService 'ssh-userauth' on HoneyPotSSHTransp...   \n",
       "3             HoneyPotSSHTransport,523,116.31.116.16   \n",
       "4                cowrie.ssh.factory.CowrieSSHFactory   \n",
       "\n",
       "                   timestamp ttylog  url username        version width  \n",
       "0 2017-07-03 18:30:07.569246    NaN  NaN      NaN            NaN   NaN  \n",
       "1 2017-07-03 18:30:08.235671    NaN  NaN      NaN  SSH-2.0-PUTTY   NaN  \n",
       "2 2017-07-03 18:30:10.585142    NaN  NaN     root            NaN   NaN  \n",
       "3 2017-07-03 18:30:17.902600    NaN  NaN      NaN            NaN   NaN  \n",
       "4 2017-07-03 18:30:44.657703    NaN  NaN      NaN            NaN   NaN  \n",
       "\n",
       "[5 rows x 30 columns]"
      ]
     },
     "execution_count": 2,
     "metadata": {},
     "output_type": "execute_result"
    }
   ],
   "source": [
    "cow_1 = pd.read_json('input/cowrie.json.2017_7_4', lines=True)\n",
    "cow_2 = pd.read_json('input/cowrie.json.2017_7_6', lines=True)\n",
    "cow_3 = pd.read_json('input/cowrie.json.2017_7_7', lines=True)\n",
    "cow = pd.concat([cow_1, cow_2, cow_3], axis=0)\n",
    "cow.head()"
   ]
  },
  {
   "cell_type": "markdown",
   "metadata": {},
   "source": [
    "### Process data"
   ]
  },
  {
   "cell_type": "code",
   "execution_count": 3,
   "metadata": {},
   "outputs": [
    {
     "data": {
      "application/vnd.jupyter.widget-view+json": {
       "model_id": "9310121d2eb14267bfb23e3c1699e76f",
       "version_major": 2,
       "version_minor": 0
      },
      "text/html": [
       "<p>Failed to display Jupyter Widget of type <code>HBox</code>.</p>\n",
       "<p>\n",
       "  If you're reading this message in the Jupyter Notebook or JupyterLab Notebook, it may mean\n",
       "  that the widgets JavaScript is still loading. If this message persists, it\n",
       "  likely means that the widgets JavaScript library is either not installed or\n",
       "  not enabled. See the <a href=\"https://ipywidgets.readthedocs.io/en/stable/user_install.html\">Jupyter\n",
       "  Widgets Documentation</a> for setup instructions.\n",
       "</p>\n",
       "<p>\n",
       "  If you're reading this message in another frontend (for example, a static\n",
       "  rendering on GitHub or <a href=\"https://nbviewer.jupyter.org/\">NBViewer</a>),\n",
       "  it may mean that your frontend doesn't currently support widgets.\n",
       "</p>\n"
      ],
      "text/plain": [
       "HBox(children=(IntProgress(value=0, max=22449), HTML(value='')))"
      ]
     },
     "metadata": {},
     "output_type": "display_data"
    },
    {
     "name": "stdout",
     "output_type": "stream",
     "text": [
      "\n",
      "[16, 15]\n"
     ]
    }
   ],
   "source": [
    "seq = dpf.proc_data(cow)\n",
    "print (seq[0])"
   ]
  },
  {
   "cell_type": "markdown",
   "metadata": {},
   "source": [
    "### Load Model"
   ]
  },
  {
   "cell_type": "code",
   "execution_count": 4,
   "metadata": {},
   "outputs": [
    {
     "name": "stdout",
     "output_type": "stream",
     "text": [
      "_________________________________________________________________\n",
      "Layer (type)                 Output Shape              Param #   \n",
      "=================================================================\n",
      "lstm_11 (LSTM)               (None, 1, 100)            80400     \n",
      "_________________________________________________________________\n",
      "lstm_12 (LSTM)               (None, 10)                4440      \n",
      "=================================================================\n",
      "Total params: 84,840\n",
      "Trainable params: 84,840\n",
      "Non-trainable params: 0\n",
      "_________________________________________________________________\n"
     ]
    }
   ],
   "source": [
    "mod = load_model('lstm/lstm_model.h5') \n",
    "mod.summary()"
   ]
  },
  {
   "cell_type": "markdown",
   "metadata": {},
   "source": [
    "### Prediction"
   ]
  },
  {
   "cell_type": "code",
   "execution_count": null,
   "metadata": {},
   "outputs": [],
   "source": [
    "d = seq[3]\n",
    "         \n",
    "corr = 0\n",
    "total = 0\n",
    "pred = []\n",
    "pred.append(16)\n",
    "\n",
    "for i in range(1, len(d)):\n",
    "    temp = d[:i]\n",
    "    s = [j+1 for j in temp]\n",
    "    \n",
    "    if len(s)> 100:\n",
    "        s = s[len(s)-100:]\n",
    "    if len(temp) < 100:\n",
    "        while len(s) is not 100:\n",
    "            s = [0] + s            \n",
    "    \n",
    "    nxt = mod.predict(np.array(s).reshape(1, 1, 100))*18     \n",
    "    nxt = [round(j-1) for j in nxt[0]]\n",
    "    \n",
    "    pred.append(int(nxt[0]))\n",
    "    if nxt[0] == d[i]:\n",
    "        corr += 1\n",
    "    total += 1"
   ]
  },
  {
   "cell_type": "code",
   "execution_count": null,
   "metadata": {},
   "outputs": [],
   "source": []
  }
 ],
 "metadata": {
  "kernelspec": {
   "display_name": "Python 3",
   "language": "python",
   "name": "python3"
  },
  "language_info": {
   "codemirror_mode": {
    "name": "ipython",
    "version": 3
   },
   "file_extension": ".py",
   "mimetype": "text/x-python",
   "name": "python",
   "nbconvert_exporter": "python",
   "pygments_lexer": "ipython3",
   "version": "3.6.3"
  }
 },
 "nbformat": 4,
 "nbformat_minor": 2
}
