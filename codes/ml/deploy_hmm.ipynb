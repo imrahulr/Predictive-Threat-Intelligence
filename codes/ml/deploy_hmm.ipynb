{
 "cells": [
  {
   "cell_type": "markdown",
   "metadata": {},
   "source": [
    "# Hidden Markov Model"
   ]
  },
  {
   "cell_type": "code",
   "execution_count": 1,
   "metadata": {},
   "outputs": [],
   "source": [
    "import numpy as np\n",
    "import pandas as pd\n",
    "import deploy_functions as dpf\n",
    "import hmm\n",
    "import markovchain\n",
    "import helper_functions as hf\n",
    "\n",
    "import warnings\n",
    "warnings.filterwarnings('ignore')"
   ]
  },
  {
   "cell_type": "markdown",
   "metadata": {},
   "source": [
    "### Load Data"
   ]
  },
  {
   "cell_type": "code",
   "execution_count": 2,
   "metadata": {},
   "outputs": [
    {
     "data": {
      "text/html": [
       "<div>\n",
       "<style scoped>\n",
       "    .dataframe tbody tr th:only-of-type {\n",
       "        vertical-align: middle;\n",
       "    }\n",
       "\n",
       "    .dataframe tbody tr th {\n",
       "        vertical-align: top;\n",
       "    }\n",
       "\n",
       "    .dataframe thead th {\n",
       "        text-align: right;\n",
       "    }\n",
       "</style>\n",
       "<table border=\"1\" class=\"dataframe\">\n",
       "  <thead>\n",
       "    <tr style=\"text-align: right;\">\n",
       "      <th></th>\n",
       "      <th>compCS</th>\n",
       "      <th>data</th>\n",
       "      <th>dst_ip</th>\n",
       "      <th>dst_port</th>\n",
       "      <th>duration</th>\n",
       "      <th>encCS</th>\n",
       "      <th>eventid</th>\n",
       "      <th>height</th>\n",
       "      <th>input</th>\n",
       "      <th>isError</th>\n",
       "      <th>...</th>\n",
       "      <th>size</th>\n",
       "      <th>src_ip</th>\n",
       "      <th>src_port</th>\n",
       "      <th>system</th>\n",
       "      <th>timestamp</th>\n",
       "      <th>ttylog</th>\n",
       "      <th>url</th>\n",
       "      <th>username</th>\n",
       "      <th>version</th>\n",
       "      <th>width</th>\n",
       "    </tr>\n",
       "  </thead>\n",
       "  <tbody>\n",
       "    <tr>\n",
       "      <th>0</th>\n",
       "      <td>NaN</td>\n",
       "      <td>NaN</td>\n",
       "      <td>10.10.0.13</td>\n",
       "      <td>2222.0</td>\n",
       "      <td>NaN</td>\n",
       "      <td>NaN</td>\n",
       "      <td>cowrie.session.connect</td>\n",
       "      <td>NaN</td>\n",
       "      <td>NaN</td>\n",
       "      <td>0.0</td>\n",
       "      <td>...</td>\n",
       "      <td>NaN</td>\n",
       "      <td>116.31.116.16</td>\n",
       "      <td>39547.0</td>\n",
       "      <td>cowrie.ssh.factory.CowrieSSHFactory</td>\n",
       "      <td>2017-07-03 18:30:07.569246</td>\n",
       "      <td>NaN</td>\n",
       "      <td>NaN</td>\n",
       "      <td>NaN</td>\n",
       "      <td>NaN</td>\n",
       "      <td>NaN</td>\n",
       "    </tr>\n",
       "    <tr>\n",
       "      <th>1</th>\n",
       "      <td>[none]</td>\n",
       "      <td>NaN</td>\n",
       "      <td>NaN</td>\n",
       "      <td>NaN</td>\n",
       "      <td>NaN</td>\n",
       "      <td>[aes128-ctr, aes192-ctr, aes256-ctr, aes256-cb...</td>\n",
       "      <td>cowrie.client.version</td>\n",
       "      <td>NaN</td>\n",
       "      <td>NaN</td>\n",
       "      <td>0.0</td>\n",
       "      <td>...</td>\n",
       "      <td>NaN</td>\n",
       "      <td>116.31.116.16</td>\n",
       "      <td>NaN</td>\n",
       "      <td>HoneyPotSSHTransport,523,116.31.116.16</td>\n",
       "      <td>2017-07-03 18:30:08.235671</td>\n",
       "      <td>NaN</td>\n",
       "      <td>NaN</td>\n",
       "      <td>NaN</td>\n",
       "      <td>SSH-2.0-PUTTY</td>\n",
       "      <td>NaN</td>\n",
       "    </tr>\n",
       "    <tr>\n",
       "      <th>2</th>\n",
       "      <td>NaN</td>\n",
       "      <td>NaN</td>\n",
       "      <td>NaN</td>\n",
       "      <td>NaN</td>\n",
       "      <td>NaN</td>\n",
       "      <td>NaN</td>\n",
       "      <td>cowrie.login.success</td>\n",
       "      <td>NaN</td>\n",
       "      <td>NaN</td>\n",
       "      <td>0.0</td>\n",
       "      <td>...</td>\n",
       "      <td>NaN</td>\n",
       "      <td>116.31.116.16</td>\n",
       "      <td>NaN</td>\n",
       "      <td>SSHService 'ssh-userauth' on HoneyPotSSHTransp...</td>\n",
       "      <td>2017-07-03 18:30:10.585142</td>\n",
       "      <td>NaN</td>\n",
       "      <td>NaN</td>\n",
       "      <td>root</td>\n",
       "      <td>NaN</td>\n",
       "      <td>NaN</td>\n",
       "    </tr>\n",
       "    <tr>\n",
       "      <th>3</th>\n",
       "      <td>NaN</td>\n",
       "      <td>NaN</td>\n",
       "      <td>NaN</td>\n",
       "      <td>NaN</td>\n",
       "      <td>9.96463</td>\n",
       "      <td>NaN</td>\n",
       "      <td>cowrie.session.closed</td>\n",
       "      <td>NaN</td>\n",
       "      <td>NaN</td>\n",
       "      <td>0.0</td>\n",
       "      <td>...</td>\n",
       "      <td>NaN</td>\n",
       "      <td>116.31.116.16</td>\n",
       "      <td>NaN</td>\n",
       "      <td>HoneyPotSSHTransport,523,116.31.116.16</td>\n",
       "      <td>2017-07-03 18:30:17.902600</td>\n",
       "      <td>NaN</td>\n",
       "      <td>NaN</td>\n",
       "      <td>NaN</td>\n",
       "      <td>NaN</td>\n",
       "      <td>NaN</td>\n",
       "    </tr>\n",
       "    <tr>\n",
       "      <th>4</th>\n",
       "      <td>NaN</td>\n",
       "      <td>NaN</td>\n",
       "      <td>10.10.0.13</td>\n",
       "      <td>2222.0</td>\n",
       "      <td>NaN</td>\n",
       "      <td>NaN</td>\n",
       "      <td>cowrie.session.connect</td>\n",
       "      <td>NaN</td>\n",
       "      <td>NaN</td>\n",
       "      <td>0.0</td>\n",
       "      <td>...</td>\n",
       "      <td>NaN</td>\n",
       "      <td>116.31.116.16</td>\n",
       "      <td>22040.0</td>\n",
       "      <td>cowrie.ssh.factory.CowrieSSHFactory</td>\n",
       "      <td>2017-07-03 18:30:44.657703</td>\n",
       "      <td>NaN</td>\n",
       "      <td>NaN</td>\n",
       "      <td>NaN</td>\n",
       "      <td>NaN</td>\n",
       "      <td>NaN</td>\n",
       "    </tr>\n",
       "  </tbody>\n",
       "</table>\n",
       "<p>5 rows × 30 columns</p>\n",
       "</div>"
      ],
      "text/plain": [
       "   compCS data      dst_ip  dst_port  duration  \\\n",
       "0     NaN  NaN  10.10.0.13    2222.0       NaN   \n",
       "1  [none]  NaN         NaN       NaN       NaN   \n",
       "2     NaN  NaN         NaN       NaN       NaN   \n",
       "3     NaN  NaN         NaN       NaN   9.96463   \n",
       "4     NaN  NaN  10.10.0.13    2222.0       NaN   \n",
       "\n",
       "                                               encCS                 eventid  \\\n",
       "0                                                NaN  cowrie.session.connect   \n",
       "1  [aes128-ctr, aes192-ctr, aes256-ctr, aes256-cb...   cowrie.client.version   \n",
       "2                                                NaN    cowrie.login.success   \n",
       "3                                                NaN   cowrie.session.closed   \n",
       "4                                                NaN  cowrie.session.connect   \n",
       "\n",
       "   height input  isError  ...  size         src_ip src_port  \\\n",
       "0     NaN   NaN      0.0  ...   NaN  116.31.116.16  39547.0   \n",
       "1     NaN   NaN      0.0  ...   NaN  116.31.116.16      NaN   \n",
       "2     NaN   NaN      0.0  ...   NaN  116.31.116.16      NaN   \n",
       "3     NaN   NaN      0.0  ...   NaN  116.31.116.16      NaN   \n",
       "4     NaN   NaN      0.0  ...   NaN  116.31.116.16  22040.0   \n",
       "\n",
       "                                              system  \\\n",
       "0                cowrie.ssh.factory.CowrieSSHFactory   \n",
       "1             HoneyPotSSHTransport,523,116.31.116.16   \n",
       "2  SSHService 'ssh-userauth' on HoneyPotSSHTransp...   \n",
       "3             HoneyPotSSHTransport,523,116.31.116.16   \n",
       "4                cowrie.ssh.factory.CowrieSSHFactory   \n",
       "\n",
       "                   timestamp ttylog  url username        version width  \n",
       "0 2017-07-03 18:30:07.569246    NaN  NaN      NaN            NaN   NaN  \n",
       "1 2017-07-03 18:30:08.235671    NaN  NaN      NaN  SSH-2.0-PUTTY   NaN  \n",
       "2 2017-07-03 18:30:10.585142    NaN  NaN     root            NaN   NaN  \n",
       "3 2017-07-03 18:30:17.902600    NaN  NaN      NaN            NaN   NaN  \n",
       "4 2017-07-03 18:30:44.657703    NaN  NaN      NaN            NaN   NaN  \n",
       "\n",
       "[5 rows x 30 columns]"
      ]
     },
     "execution_count": 2,
     "metadata": {},
     "output_type": "execute_result"
    }
   ],
   "source": [
    "cow_1 = pd.read_json('input/cowrie.json.2017_7_4', lines=True)\n",
    "cow_2 = pd.read_json('input/cowrie.json.2017_7_6', lines=True)\n",
    "cow_3 = pd.read_json('input/cowrie.json.2017_7_7', lines=True)\n",
    "cow = pd.concat([cow_1, cow_2, cow_3], axis=0)\n",
    "cow.head()"
   ]
  },
  {
   "cell_type": "markdown",
   "metadata": {},
   "source": [
    "### Process data"
   ]
  },
  {
   "cell_type": "code",
   "execution_count": 4,
   "metadata": {},
   "outputs": [
    {
     "data": {
      "application/vnd.jupyter.widget-view+json": {
       "model_id": "fe5b2b9a18004d92a57c1e5eec693782",
       "version_major": 2,
       "version_minor": 0
      },
      "text/html": [
       "<p>Failed to display Jupyter Widget of type <code>HBox</code>.</p>\n",
       "<p>\n",
       "  If you're reading this message in the Jupyter Notebook or JupyterLab Notebook, it may mean\n",
       "  that the widgets JavaScript is still loading. If this message persists, it\n",
       "  likely means that the widgets JavaScript library is either not installed or\n",
       "  not enabled. See the <a href=\"https://ipywidgets.readthedocs.io/en/stable/user_install.html\">Jupyter\n",
       "  Widgets Documentation</a> for setup instructions.\n",
       "</p>\n",
       "<p>\n",
       "  If you're reading this message in another frontend (for example, a static\n",
       "  rendering on GitHub or <a href=\"https://nbviewer.jupyter.org/\">NBViewer</a>),\n",
       "  it may mean that your frontend doesn't currently support widgets.\n",
       "</p>\n"
      ],
      "text/plain": [
       "HBox(children=(IntProgress(value=0, max=22449), HTML(value='')))"
      ]
     },
     "metadata": {},
     "output_type": "display_data"
    },
    {
     "name": "stdout",
     "output_type": "stream",
     "text": [
      "\n",
      "[16, 15]\n"
     ]
    }
   ],
   "source": [
    "seq = dpf.proc_data(cow)\n",
    "print (seq[0])"
   ]
  },
  {
   "cell_type": "code",
   "execution_count": 5,
   "metadata": {},
   "outputs": [
    {
     "data": {
      "application/vnd.jupyter.widget-view+json": {
       "model_id": "10bf1c98d66a4029aaa652ab47465c6d",
       "version_major": 2,
       "version_minor": 0
      },
      "text/html": [
       "<p>Failed to display Jupyter Widget of type <code>HBox</code>.</p>\n",
       "<p>\n",
       "  If you're reading this message in the Jupyter Notebook or JupyterLab Notebook, it may mean\n",
       "  that the widgets JavaScript is still loading. If this message persists, it\n",
       "  likely means that the widgets JavaScript library is either not installed or\n",
       "  not enabled. See the <a href=\"https://ipywidgets.readthedocs.io/en/stable/user_install.html\">Jupyter\n",
       "  Widgets Documentation</a> for setup instructions.\n",
       "</p>\n",
       "<p>\n",
       "  If you're reading this message in another frontend (for example, a static\n",
       "  rendering on GitHub or <a href=\"https://nbviewer.jupyter.org/\">NBViewer</a>),\n",
       "  it may mean that your frontend doesn't currently support widgets.\n",
       "</p>\n"
      ],
      "text/plain": [
       "HBox(children=(IntProgress(value=0, max=22449), HTML(value='')))"
      ]
     },
     "metadata": {},
     "output_type": "display_data"
    },
    {
     "name": "stdout",
     "output_type": "stream",
     "text": [
      "\n",
      "total samples found: 3032\n",
      "\n",
      "few samples of data of sequence length 199\n",
      "[[16 14 12  5  8  5  2  5  2  5  8  5  8  5  8  8  8  5  8  8  8  3  8  8\n",
      "   8  8  8  8  3  8  8  8  8  8  8  3  8  8  8  8  8  8  3  8  8  8  8  8\n",
      "   8  3  8  8  8  8  8  8  3  8  8  8  8  8  8  3  8  8  8  8  8  8  3  8\n",
      "   8  8  8  8  8  3  8  8  8  8  8  8  3  8  8  8  8  8  8  3  8  8  8  8\n",
      "   8  3  8  8  8  8  8  8  3  8  8  8  8  8  8  3  8  8  8  8  8  8  3  8\n",
      "   8  8  8  8  8  5  8  3  8  8  8  3  8  8  8  3  8  8  8  3  8  8  8  3\n",
      "   8  8  8  3  8  8  8  3  8  8  8  3  8  8  8  3  8  8  8  3  8  8  8  3\n",
      "   8  8  8  3  8  8  8  3  8  8  8  3  8  8  8  4  8  7  8  8  8  8  8  8\n",
      "   5  8  8  5  8 11 15]\n",
      " [16 14 12  5  8  5  2  5  2  5  8  5  8  5  8  8  8  5  8  8  8  3  8  8\n",
      "   8  8  8  8  3  8  8  8  8  8  8  3  8  8  8  8  8  8  3  8  8  8  8  8\n",
      "   8  3  8  8  8  8  8  8  3  8  8  8  8  8  8  3  8  8  8  8  8  8  3  8\n",
      "   8  8  8  8  8  3  8  8  8  8  8  8  3  8  8  8  8  8  8  3  8  8  8  8\n",
      "   8  3  8  8  8  8  8  8  3  8  8  8  8  8  8  3  8  8  8  8  8  8  3  8\n",
      "   8  8  8  8  8  5  8  3  8  8  8  3  8  8  8  3  8  8  8  3  8  8  8  3\n",
      "   8  8  8  3  8  8  8  3  8  8  8  3  8  8  8  3  8  8  8  3  8  8  8  3\n",
      "   8  8  8  3  8  8  8  3  8  8  8  3  8  8  8  4  8  7  8  8  8  8  8  8\n",
      "   5  8  8  5  8 11 15]\n",
      " [16 14 12  5  8  5  2  5  2  5  8  5  8  5  8  8  8  5  8  8  8  3  8  8\n",
      "   8  8  8  8  3  8  8  8  8  8  8  3  8  8  8  8  8  8  3  8  8  8  8  8\n",
      "   8  3  8  8  8  8  8  8  3  8  8  8  8  8  8  3  8  8  8  8  8  8  3  8\n",
      "   8  8  8  8  8  3  8  8  8  8  8  8  3  8  8  8  8  8  8  3  8  8  8  8\n",
      "   8  3  8  8  8  8  8  8  3  8  8  8  8  8  8  3  8  8  8  8  8  8  3  8\n",
      "   8  8  8  8  8  5  8  3  8  8  8  3  8  8  8  3  8  8  8  3  8  8  8  3\n",
      "   8  8  8  3  8  8  8  3  8  8  8  3  8  8  8  3  8  8  8  3  8  8  8  3\n",
      "   8  8  8  3  8  8  8  3  8  8  8  3  8  8  8  4  8  7  8  8  8  8  8  8\n",
      "   5  8  8  5  8 11 15]\n",
      " [16 14 12  5  8  5  2  5  2  5  8  5  8  5  8  8  8  5  8  8  8  3  8  8\n",
      "   8  8  8  8  3  8  8  8  8  8  8  3  8  8  8  8  8  8  3  8  8  8  8  8\n",
      "   8  3  8  8  8  8  8  8  3  8  8  8  8  8  8  3  8  8  8  8  8  8  3  8\n",
      "   8  8  8  8  8  3  8  8  8  8  8  8  3  8  8  8  8  8  8  3  8  8  8  8\n",
      "   8  3  8  8  8  8  8  8  3  8  8  8  8  8  8  3  8  8  8  8  8  8  3  8\n",
      "   8  8  8  8  8  5  8  3  8  8  8  3  8  8  8  3  8  8  8  3  8  8  8  3\n",
      "   8  8  8  3  8  8  8  3  8  8  8  3  8  8  8  3  8  8  8  3  8  8  8  3\n",
      "   8  8  8  3  8  8  8  3  8  8  8  3  8  8  8  4  8  7  8  8  8  8  8  8\n",
      "   5  8  8  5  8 11 15]\n",
      " [16 14 12  5  8  5  2  5  2  5  8  5  8  5  8  8  8  5  8  8  8  3  8  8\n",
      "   8  8  8  8  3  8  8  8  8  8  8  3  8  8  8  8  8  8  3  8  8  8  8  8\n",
      "   8  3  8  8  8  8  8  8  3  8  8  8  8  8  8  3  8  8  8  8  8  8  3  8\n",
      "   8  8  8  8  8  3  8  8  8  8  8  8  3  8  8  8  8  8  8  3  8  8  8  8\n",
      "   8  3  8  8  8  8  8  8  3  8  8  8  8  8  8  3  8  8  8  8  8  8  3  8\n",
      "   8  8  8  8  8  5  8  3  8  8  8  3  8  8  8  3  8  8  8  3  8  8  8  3\n",
      "   8  8  8  3  8  8  8  3  8  8  8  3  8  8  8  3  8  8  8  3  8  8  8  3\n",
      "   8  8  8  3  8  8  8  3  8  8  8  3  8  8  8  4  8  7  8  8  8  8  8  8\n",
      "   5  8  8  5  8 11 15]]\n"
     ]
    }
   ],
   "source": [
    "length = 199\n",
    "data = hf.desired_seq(seq, length)"
   ]
  },
  {
   "cell_type": "markdown",
   "metadata": {},
   "source": [
    "### Train Model"
   ]
  },
  {
   "cell_type": "code",
   "execution_count": 7,
   "metadata": {},
   "outputs": [
    {
     "name": "stdout",
     "output_type": "stream",
     "text": [
      "Update #1 Log Probability: -43.528887491624644 -- Mean Error 3.2953334285204215e-12\n",
      "Update #1 Probability: 7.77441960030952e-19\n",
      "Update #2 Log Probability: -41.28470067295916 -- Mean Error 2.7804146669876236e-13\n",
      "Update #2 Probability: 1.175661538828972e-18\n",
      "Update #3 Log Probability: -41.28470196904212 -- Mean Error 2.1291516618398936e-13\n",
      "Update #3 Probability: 1.1756600150750887e-18\n",
      "None\n"
     ]
    }
   ],
   "source": [
    "N = 25\n",
    "M = 19\n",
    "T = length\n",
    "mod = hmm.HMM(N, M, T)\n",
    "print (mod.train(data, smoothing=0.0001))"
   ]
  },
  {
   "cell_type": "code",
   "execution_count": 8,
   "metadata": {},
   "outputs": [
    {
     "data": {
      "application/vnd.jupyter.widget-view+json": {
       "model_id": "846cdc560ed14c55835230d6a73c53b3",
       "version_major": 2,
       "version_minor": 0
      },
      "text/html": [
       "<p>Failed to display Jupyter Widget of type <code>HBox</code>.</p>\n",
       "<p>\n",
       "  If you're reading this message in the Jupyter Notebook or JupyterLab Notebook, it may mean\n",
       "  that the widgets JavaScript is still loading. If this message persists, it\n",
       "  likely means that the widgets JavaScript library is either not installed or\n",
       "  not enabled. See the <a href=\"https://ipywidgets.readthedocs.io/en/stable/user_install.html\">Jupyter\n",
       "  Widgets Documentation</a> for setup instructions.\n",
       "</p>\n",
       "<p>\n",
       "  If you're reading this message in another frontend (for example, a static\n",
       "  rendering on GitHub or <a href=\"https://nbviewer.jupyter.org/\">NBViewer</a>),\n",
       "  it may mean that your frontend doesn't currently support widgets.\n",
       "</p>\n"
      ],
      "text/plain": [
       "HBox(children=(IntProgress(value=0, max=3032), HTML(value='')))"
      ]
     },
     "metadata": {},
     "output_type": "display_data"
    },
    {
     "name": "stdout",
     "output_type": "stream",
     "text": [
      "\n",
      "result samples: \n",
      "\n",
      "                                                 seq          prob\n",
      "0  [16, 14, 12, 5, 8, 5, 2, 5, 2, 5, 8, 5, 8, 5, ...  1.175660e-18\n",
      "1  [16, 14, 12, 5, 8, 5, 2, 5, 2, 5, 8, 5, 8, 5, ...  1.175660e-18\n",
      "2  [16, 14, 12, 5, 8, 5, 2, 5, 2, 5, 8, 5, 8, 5, ...  1.175660e-18\n",
      "3  [16, 14, 12, 5, 8, 5, 2, 5, 2, 5, 8, 5, 8, 5, ...  1.175660e-18\n",
      "4  [16, 14, 12, 5, 8, 5, 2, 5, 2, 5, 8, 5, 8, 5, ...  1.175660e-18\n",
      "\n",
      " Further analysis of results:  \n",
      "\n",
      "               prob\n",
      "count  3.032000e+03\n",
      "mean   1.175659e-18\n",
      "std    8.897389e-25\n",
      "min    1.175611e-18\n",
      "25%    1.175660e-18\n",
      "50%    1.175660e-18\n",
      "75%    1.175660e-18\n",
      "max    1.175660e-18\n",
      "\n",
      " Max probablity sequence: \n",
      "\n",
      "seq     [16, 14, 12, 5, 8, 5, 2, 5, 2, 5, 8, 5, 8, 5, ...\n",
      "prob                                          1.17566e-18\n",
      "Name: 0, dtype: object\n"
     ]
    }
   ],
   "source": [
    "result, max_prob = hf.calculate_probablity(mod, data)"
   ]
  },
  {
   "cell_type": "markdown",
   "metadata": {},
   "source": [
    "### Prediction"
   ]
  },
  {
   "cell_type": "code",
   "execution_count": 11,
   "metadata": {},
   "outputs": [],
   "source": [
    "seq = data[2]\n",
    "\n",
    "corr = 0\n",
    "total = 0\n",
    "pred = []\n",
    "pred.append(seq)\n",
    "\n",
    "for i in range(1, len(seq)):\n",
    "    s = seq[:i]\n",
    "    nxt = dpf.predict_next_state(mod, list(s), length)\n",
    "    pred.append(nxt)\n",
    "    if nxt == seq[i]:\n",
    "        corr += 1\n",
    "    total += 1"
   ]
  },
  {
   "cell_type": "code",
   "execution_count": 12,
   "metadata": {},
   "outputs": [
    {
     "name": "stdout",
     "output_type": "stream",
     "text": [
      "0.9242424242424242\n"
     ]
    }
   ],
   "source": [
    "print (corr/total)"
   ]
  },
  {
   "cell_type": "code",
   "execution_count": 13,
   "metadata": {},
   "outputs": [
    {
     "name": "stdout",
     "output_type": "stream",
     "text": [
      "[16 14 12  5  8  5  2  5  2  5  8  5  8  5  8  8  8  5  8  8  8  3  8  8\n",
      "  8  8  8  8  3  8  8  8  8  8  8  3  8  8  8  8  8  8  3  8  8  8  8  8\n",
      "  8  3  8  8  8  8  8  8  3  8  8  8  8  8  8  3  8  8  8  8  8  8  3  8\n",
      "  8  8  8  8  8  3  8  8  8  8  8  8  3  8  8  8  8  8  8  3  8  8  8  8\n",
      "  8  3  8  8  8  8  8  8  3  8  8  8  8  8  8  3  8  8  8  8  8  8  3  8\n",
      "  8  8  8  8  8  5  8  3  8  8  8  3  8  8  8  3  8  8  8  3  8  8  8  3\n",
      "  8  8  8  3  8  8  8  3  8  8  8  3  8  8  8  3  8  8  8  3  8  8  8  3\n",
      "  8  8  8  3  8  8  8  3  8  8  8  3  8  8  8  4  8  7  8  8  8  8  8  8\n",
      "  5  8  8  5  8 11 15]\n"
     ]
    }
   ],
   "source": [
    "print (seq)"
   ]
  },
  {
   "cell_type": "code",
   "execution_count": 15,
   "metadata": {},
   "outputs": [
    {
     "name": "stdout",
     "output_type": "stream",
     "text": [
      "[16 14 12  5  8  5  2  5  2  5  8  5  8  5  8  8  8  5  8  8  8  3  8  8\n",
      "  8  8  8  8  3  8  8  8  8  8  8  3  8  8  8  8  8  8  3  8  8  8  8  8\n",
      "  8  3  8  8  8  8  8  8  3  8  8  8  8  8  8  3  8  8  8  8  8  8  3  8\n",
      "  8  8  8  8  8  3  8  8  8  8  8  8  3  8  8  8  8  8  8  3  8  8  8  8\n",
      "  8  3  8  8  8  8  8  8  3  8  8  8  8  8  8  3  8  8  8  8  8  8  3  8\n",
      "  8  8  8  8  8  5  8  3  8  8  8  3  8  8  8  3  8  8  8  3  8  8  8  3\n",
      "  8  8  8  3  8  8  8  3  8  8  8  3  8  8  8  3  8  8  8  3  8  8  8  3\n",
      "  8  8  8  3  8  8  8  3  8  8  8  3  8  8  8  4  8  7  8  8  8  8  8  8\n",
      "  5  8  8  5  8 11 15]\n"
     ]
    }
   ],
   "source": [
    "print (pred[0])"
   ]
  },
  {
   "cell_type": "code",
   "execution_count": null,
   "metadata": {},
   "outputs": [],
   "source": []
  }
 ],
 "metadata": {
  "kernelspec": {
   "display_name": "Python 3",
   "language": "python",
   "name": "python3"
  },
  "language_info": {
   "codemirror_mode": {
    "name": "ipython",
    "version": 3
   },
   "file_extension": ".py",
   "mimetype": "text/x-python",
   "name": "python",
   "nbconvert_exporter": "python",
   "pygments_lexer": "ipython3",
   "version": "3.6.3"
  }
 },
 "nbformat": 4,
 "nbformat_minor": 2
}
